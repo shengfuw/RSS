{
 "cells": [
  {
   "cell_type": "markdown",
   "metadata": {},
   "source": [
    "### 電影類型判斷"
   ]
  },
  {
   "cell_type": "code",
   "execution_count": 38,
   "metadata": {},
   "outputs": [],
   "source": [
    "import json\n",
    "from sklearn.feature_extraction import DictVectorizer\n",
    "from collections import Counter\n",
    "from nltk.tokenize import word_tokenize\n",
    "from sklearn.decomposition import PCA\n",
    "import numpy\n",
    "from nltk.corpus import stopwords\n",
    "stopword_list = stopwords.words('english')\n",
    "from gensim.models import KeyedVectors\n",
    "w2v = KeyedVectors.load_word2vec_format(\"wiki.en.5k.vec\", binary=False)\n",
    "import random\n",
    "import pandas as pd"
   ]
  },
  {
   "cell_type": "code",
   "execution_count": 39,
   "metadata": {},
   "outputs": [],
   "source": [
    "with open('data/lgbt-related_movielist_2004-2018_plotsummary.json') as f:\n",
    "    data=json.load(f)\n",
    "with open('data/lgbt-related_movielist_2004-2018_keywords.json') as f:\n",
    "    data2=json.load(f)\n",
    "with open('data/top270_plotsummary.json') as f:\n",
    "    data3=json.load(f)\n",
    "with open('data/top270_keywords.json') as f:\n",
    "    data4=json.load(f)\n",
    "\n",
    "training1=[]    \n",
    "df_p=[]\n",
    "\n",
    "for doc in list(data.keys()):\n",
    "    if random.randint(0, 10) != 0:\n",
    "        training1.append(doc)\n",
    "        for m in data[doc]:\n",
    "            df_p.extend(word_tokenize(m))\n",
    "        for m in data2[doc]:\n",
    "            df_p.extend(word_tokenize(m))\n",
    "            \n",
    "df_n=[]\n",
    "training0=[]\n",
    "for doc in list(data3.keys()):\n",
    "    if random.randint(0, 10) != 0:\n",
    "        training0.append(doc)\n",
    "        for m in data3[doc]:\n",
    "            df_n.extend(word_tokenize(m))\n",
    "        for m in data4[doc]:\n",
    "            df_n.extend(word_tokenize(m))\n",
    "\n",
    "        \n",
    "def count(data):\n",
    "    term_dict = {}\n",
    "    for term in data:\n",
    "        if term not in term_dict:\n",
    "            term_dict[term] = 1\n",
    "        else:\n",
    "            term_dict[term] = term_dict[term] +1\n",
    "    return term_dict\n",
    "\n",
    "word_p=count(df_p)\n",
    "word_p=pd.DataFrame(list(word_p.items()), columns=['word', 'TF_p'])\n",
    "word_n=count(df_n)\n",
    "word_n=pd.DataFrame(list(word_n.items()), columns=['word', 'TF_n'])"
   ]
  },
  {
   "cell_type": "code",
   "execution_count": 40,
   "metadata": {},
   "outputs": [
    {
     "data": {
      "text/html": [
       "<div>\n",
       "<style scoped>\n",
       "    .dataframe tbody tr th:only-of-type {\n",
       "        vertical-align: middle;\n",
       "    }\n",
       "\n",
       "    .dataframe tbody tr th {\n",
       "        vertical-align: top;\n",
       "    }\n",
       "\n",
       "    .dataframe thead th {\n",
       "        text-align: right;\n",
       "    }\n",
       "</style>\n",
       "<table border=\"1\" class=\"dataframe\">\n",
       "  <thead>\n",
       "    <tr style=\"text-align: right;\">\n",
       "      <th></th>\n",
       "      <th>TF_p</th>\n",
       "      <th>word</th>\n",
       "      <th>TF_n</th>\n",
       "    </tr>\n",
       "  </thead>\n",
       "  <tbody>\n",
       "    <tr>\n",
       "      <th>0</th>\n",
       "      <td>1201022</td>\n",
       "      <td>and</td>\n",
       "      <td>861910</td>\n",
       "    </tr>\n",
       "    <tr>\n",
       "      <th>1</th>\n",
       "      <td>62505</td>\n",
       "      <td>best</td>\n",
       "      <td>19110</td>\n",
       "    </tr>\n",
       "    <tr>\n",
       "      <th>2</th>\n",
       "      <td>68061</td>\n",
       "      <td>friends</td>\n",
       "      <td>16415</td>\n",
       "    </tr>\n",
       "    <tr>\n",
       "      <th>3</th>\n",
       "      <td>463</td>\n",
       "      <td>total</td>\n",
       "      <td>1225</td>\n",
       "    </tr>\n",
       "    <tr>\n",
       "      <th>4</th>\n",
       "      <td>926</td>\n",
       "      <td>opposites</td>\n",
       "      <td>490</td>\n",
       "    </tr>\n",
       "  </tbody>\n",
       "</table>\n",
       "</div>"
      ],
      "text/plain": [
       "      TF_p       word    TF_n\n",
       "0  1201022        and  861910\n",
       "1    62505       best   19110\n",
       "2    68061    friends   16415\n",
       "3      463      total    1225\n",
       "4      926  opposites     490"
      ]
     },
     "execution_count": 40,
     "metadata": {},
     "output_type": "execute_result"
    }
   ],
   "source": [
    "word_p['len'] = word_p['word'].apply(lambda x: len(x))\n",
    "word_n['len'] = word_n['word'].apply(lambda x: len(x))\n",
    "\n",
    "word_p = word_p[word_p.len>2]\n",
    "word_n = word_n[word_n.len>2]\n",
    "word_all = pd.merge(word_p[['TF_p','word']], word_n[['TF_n','word']], how='inner')\n",
    "word_all.head(5)"
   ]
  },
  {
   "cell_type": "code",
   "execution_count": 41,
   "metadata": {},
   "outputs": [],
   "source": [
    "import numpy as np\n",
    "word_all['positive'] = word_all.TF_p/sum(word_all.TF_p)\n",
    "word_all['negative'] = word_all.TF_n/sum(word_all.TF_n)\n",
    "word_all['log_ratio'] = np.log(word_all['positive']/word_all['negative'])\n",
    "word_all['type'] = word_all['log_ratio'].apply(lambda x: 'Positive' if x>=0 else 'Negative')\n",
    "word_all = word_all.sort_values(by='log_ratio', ascending=False)\n",
    "most_p = word_all[:100]\n",
    "most_n = word_all[-100:]"
   ]
  },
  {
   "cell_type": "code",
   "execution_count": 42,
   "metadata": {},
   "outputs": [],
   "source": [
    "log_ratio_words=[]\n",
    "for word in most_p.word.apply(str):\n",
    "    log_ratio_words.append(word)\n",
    "for word in most_n.word.apply(str):\n",
    "    log_ratio_words.append(word)"
   ]
  },
  {
   "cell_type": "code",
   "execution_count": 44,
   "metadata": {},
   "outputs": [],
   "source": [
    "most15_p=word_all[:15]\n",
    "most15_n=word_all[-15:]"
   ]
  },
  {
   "cell_type": "code",
   "execution_count": 53,
   "metadata": {},
   "outputs": [
    {
     "name": "stdout",
     "output_type": "stream",
     "text": [
      "        TF_p           word  TF_n  positive  negative  log_ratio      type\n",
      "45    943594            gay  9555  0.018548  0.000255   4.285280  Positive\n",
      "2584   42133       closeted   490  0.000828  0.000013   4.146830  Positive\n",
      "1059   18520    transgender   245  0.000364  0.000007   4.017997  Positive\n",
      "3437   34725     homophobia   490  0.000683  0.000013   3.953459  Positive\n",
      "871    46763  homosexuality   735  0.000919  0.000020   3.845626  Positive\n",
      "1120   15279        hustler   245  0.000300  0.000007   3.825625  Positive\n",
      "3089   13427          Olive   245  0.000264  0.000007   3.696413  Positive\n",
      "2411  130566     homosexual  2450  0.002566  0.000065   3.668440  Positive\n",
      "6438   12038            hiv   245  0.000237  0.000007   3.587214  Positive\n",
      "101    41670       straight   980  0.000819  0.000026   3.442633  Positive\n",
      "4490   17594    pornography   490  0.000346  0.000013   3.273557  Positive\n",
      "1991    8797           Marc   245  0.000173  0.000007   3.273557  Positive\n",
      "1555    8334        Russell   245  0.000164  0.000007   3.219489  Positive\n",
      "485     8334       freshman   245  0.000164  0.000007   3.219489  Positive\n",
      "3686    8334       cruising   245  0.000164  0.000007   3.219489  Positive\n"
     ]
    }
   ],
   "source": [
    "print(most15_p)"
   ]
  },
  {
   "cell_type": "code",
   "execution_count": 51,
   "metadata": {
    "scrolled": true
   },
   "outputs": [
    {
     "data": {
      "image/png": "[encoded data removed]",
      "text/plain": [
       "<Figure size 720x720 with 1 Axes>"
      ]
     },
     "metadata": {},
     "output_type": "display_data"
    }
   ],
   "source": [
    "import matplotlib.pyplot as plt\n",
    "plt.figure(figsize=(10, 10)) \n",
    "plt.rcParams.update({'font.size': 14})\n",
    "\n",
    "plt.barh(most15_n['word'],most15_n['log_ratio'], label=\"Nagative\")\n",
    "plt.barh(most15_p['word'],most15_p['log_ratio'], label=\"Positive\")\n",
    "plt.legend()\n",
    "plt.show()"
   ]
  },
  {
   "cell_type": "markdown",
   "metadata": {},
   "source": [
    "#### train"
   ]
  },
  {
   "cell_type": "code",
   "execution_count": 30,
   "metadata": {},
   "outputs": [
    {
     "name": "stdout",
     "output_type": "stream",
     "text": [
      "182\n",
      "18\n"
     ]
    }
   ],
   "source": [
    "def we_represent(tokens):\n",
    "    vec = numpy.zeros(300)\n",
    "    for tok in tokens:\n",
    "        if tok.lower() in w2v and tok.lower() not in stopword_list and tok in log_ratio_words:\n",
    "            vec += w2v[tok.lower()]\n",
    "    return vec\n",
    "\n",
    "training_instances = []\n",
    "training_labels = []\n",
    "test_instances = []\n",
    "test_labels = []\n",
    "x=[]\n",
    "\n",
    "for doc in list(data.keys())[:100]:\n",
    "    if doc not in training1:\n",
    "        for m in data[doc]:\n",
    "            x.extend(word_tokenize(m))\n",
    "        for m in data2[doc]:\n",
    "            x.extend(word_tokenize(m))\n",
    "        test_instances.append(we_represent(x))\n",
    "        x=[]\n",
    "        test_labels.append(1)\n",
    "    else:\n",
    "        for m in data[doc]:\n",
    "            x.extend(word_tokenize(m))\n",
    "        for m in data2[doc]:\n",
    "            x.extend(word_tokenize(m))\n",
    "        training_instances.append(we_represent(x))\n",
    "        x=[]\n",
    "        training_labels.append(1)\n",
    "        \n",
    "for doc in list(data3.keys())[:100]:\n",
    "    if doc not in training0:\n",
    "        for m in data3[doc]:\n",
    "            x.extend(word_tokenize(m))\n",
    "        for m in data4[doc]:\n",
    "            x.extend(word_tokenize(m))    \n",
    "        test_instances.append(we_represent(x))\n",
    "        x=[]\n",
    "        test_labels.append(0)\n",
    "    else:\n",
    "        for m in data3[doc]:\n",
    "            x.extend(word_tokenize(m))\n",
    "        for m in data4[doc]:\n",
    "            x.extend(word_tokenize(m))   \n",
    "        training_instances.append(we_represent(x))\n",
    "        x=[]\n",
    "        training_labels.append(0)\n",
    "        \n",
    "print(len(training_labels))\n",
    "print(len(test_labels))"
   ]
  },
  {
   "cell_type": "code",
   "execution_count": 31,
   "metadata": {},
   "outputs": [],
   "source": [
    "def evaluate(actual_labels, predict_labels):\n",
    "    tp = 0\n",
    "    tn = 0\n",
    "    fp = 0\n",
    "    fn = 0\n",
    "    for actual_label, predict_label in zip(actual_labels, predict_labels):\n",
    "        if predict_label == 1 and actual_label == 1:\n",
    "            tp += 1\n",
    "        elif predict_label == 1 and actual_label == 0:\n",
    "            fp += 1\n",
    "        elif predict_label == 0 and actual_label == 1:\n",
    "            fn += 1\n",
    "        else:  #predict_label == 0 and actual_label == 0\n",
    "            tn += 1\n",
    "    print(tp,fp,fn,tn)\n",
    "    accuracy = (tp + tn) / len(actual_labels)\n",
    "    precision = tp / (tp + fp)\n",
    "    recall = tp / (tp + fn)\n",
    "    fscore = (2.0 * recall * precision) / (recall + precision)\n",
    "    return accuracy, precision, recall, fscore"
   ]
  },
  {
   "cell_type": "code",
   "execution_count": 33,
   "metadata": {},
   "outputs": [
    {
     "name": "stdout",
     "output_type": "stream",
     "text": [
      "11 0 0 7\n",
      "Accuracy: 1.000000 Precision: 1.000000 Recall: 1.000000 F-score: 1.000000\n"
     ]
    }
   ],
   "source": [
    "from sklearn.linear_model import LogisticRegression\n",
    "\n",
    "model = LogisticRegression()\n",
    "model.fit(training_instances, training_labels)\n",
    "predict_labels = model.predict(test_instances)\n",
    "\n",
    "accuracy, precision, recall, fscore = evaluate(test_labels, predict_labels)\n",
    "print(\"Accuracy: %f Precision: %f Recall: %f F-score: %f\" % (accuracy, precision, recall, fscore))"
   ]
  },
  {
   "cell_type": "code",
   "execution_count": null,
   "metadata": {},
   "outputs": [],
   "source": [
    "#from sklearn.svm import LinearSVC\n",
    "\n",
    "#model = LinearSVC()\n",
    "#model.fit(training_instances, training_labels)\n",
    "#predict_labels = model.pre "
   ]
  },
  {
   "cell_type": "markdown",
   "metadata": {},
   "source": [
    "#### predict"
   ]
  },
  {
   "cell_type": "code",
   "execution_count": 34,
   "metadata": {},
   "outputs": [
    {
     "name": "stdout",
     "output_type": "stream",
     "text": [
      "111\n",
      "Counter({0: 111})\n"
     ]
    }
   ],
   "source": [
    "with open('data/bestpicture_plotsummary.json') as f:\n",
    "    data=json.load(f)\n",
    "with open('data/bestpicture_keywords.json') as f:\n",
    "    data2=json.load(f)\n",
    "movielist=[]\n",
    "x=[]\n",
    "y=[]\n",
    "result=[]\n",
    "result_proba=[]\n",
    "for movie in list(data.keys()):\n",
    "    movielist.append(movie)\n",
    "    for b in data[movie]:\n",
    "        x.extend(word_tokenize(b))\n",
    "    for b in data2[movie]:\n",
    "        x.extend(word_tokenize(b))\n",
    "    y.append(we_represent(x))\n",
    "    x=[]\n",
    "\n",
    "result=model.predict(y)\n",
    "print(len(result))\n",
    "result_counter=Counter()\n",
    "for i in result:\n",
    "    result_counter[i]+=1\n",
    "print(result_counter)"
   ]
  },
  {
   "cell_type": "code",
   "execution_count": 35,
   "metadata": {},
   "outputs": [
    {
     "name": "stdout",
     "output_type": "stream",
     "text": [
      "[[0.95256161 0.04743839]\n",
      " [0.95256161 0.04743839]\n",
      " [0.95256161 0.04743839]\n",
      " [0.95256161 0.04743839]\n",
      " [0.95256161 0.04743839]\n",
      " [0.95256161 0.04743839]\n",
      " [0.95256161 0.04743839]\n",
      " [0.95256161 0.04743839]\n",
      " [0.95256161 0.04743839]\n",
      " [0.95256161 0.04743839]\n",
      " [0.95256161 0.04743839]\n",
      " [0.95256161 0.04743839]\n",
      " [0.95256161 0.04743839]\n",
      " [0.95256161 0.04743839]\n",
      " [0.95256161 0.04743839]\n",
      " [0.95256161 0.04743839]\n",
      " [0.95256161 0.04743839]\n",
      " [0.95256161 0.04743839]\n",
      " [0.95256161 0.04743839]\n",
      " [0.95256161 0.04743839]\n",
      " [0.95256161 0.04743839]\n",
      " [0.95256161 0.04743839]\n",
      " [0.95256161 0.04743839]\n",
      " [0.95256161 0.04743839]\n",
      " [0.95256161 0.04743839]\n",
      " [0.95256161 0.04743839]\n",
      " [0.95256161 0.04743839]\n",
      " [0.95256161 0.04743839]\n",
      " [0.95256161 0.04743839]\n",
      " [0.95256161 0.04743839]\n",
      " [0.95256161 0.04743839]\n",
      " [0.95256161 0.04743839]\n",
      " [0.95256161 0.04743839]\n",
      " [0.95256161 0.04743839]\n",
      " [0.95256161 0.04743839]\n",
      " [0.95256161 0.04743839]\n",
      " [0.95256161 0.04743839]\n",
      " [0.95256161 0.04743839]\n",
      " [0.95256161 0.04743839]\n",
      " [0.95256161 0.04743839]\n",
      " [0.95256161 0.04743839]\n",
      " [0.95256161 0.04743839]\n",
      " [0.95256161 0.04743839]\n",
      " [0.95256161 0.04743839]\n",
      " [0.95256161 0.04743839]\n",
      " [0.95256161 0.04743839]\n",
      " [0.95256161 0.04743839]\n",
      " [0.95256161 0.04743839]\n",
      " [0.95256161 0.04743839]\n",
      " [0.95256161 0.04743839]\n",
      " [0.95256161 0.04743839]\n",
      " [0.95256161 0.04743839]\n",
      " [0.95256161 0.04743839]\n",
      " [0.95256161 0.04743839]\n",
      " [0.95256161 0.04743839]\n",
      " [0.95256161 0.04743839]\n",
      " [0.95256161 0.04743839]\n",
      " [0.95256161 0.04743839]\n",
      " [0.95256161 0.04743839]\n",
      " [0.95256161 0.04743839]\n",
      " [0.95256161 0.04743839]\n",
      " [0.95256161 0.04743839]\n",
      " [0.95256161 0.04743839]\n",
      " [0.95256161 0.04743839]\n",
      " [0.95256161 0.04743839]\n",
      " [0.95256161 0.04743839]\n",
      " [0.95256161 0.04743839]\n",
      " [0.95256161 0.04743839]\n",
      " [0.95256161 0.04743839]\n",
      " [0.95256161 0.04743839]\n",
      " [0.95256161 0.04743839]\n",
      " [0.95256161 0.04743839]\n",
      " [0.95256161 0.04743839]\n",
      " [0.95256161 0.04743839]\n",
      " [0.95256161 0.04743839]\n",
      " [0.95256161 0.04743839]\n",
      " [0.95256161 0.04743839]\n",
      " [0.95256161 0.04743839]\n",
      " [0.95256161 0.04743839]\n",
      " [0.95256161 0.04743839]\n",
      " [0.95256161 0.04743839]\n",
      " [0.95256161 0.04743839]\n",
      " [0.95256161 0.04743839]\n",
      " [0.95256161 0.04743839]\n",
      " [0.95256161 0.04743839]\n",
      " [0.95256161 0.04743839]\n",
      " [0.95256161 0.04743839]\n",
      " [0.95256161 0.04743839]\n",
      " [0.95256161 0.04743839]\n",
      " [0.95256161 0.04743839]\n",
      " [0.95256161 0.04743839]\n",
      " [0.95256161 0.04743839]\n",
      " [0.95256161 0.04743839]\n",
      " [0.95256161 0.04743839]\n",
      " [0.95256161 0.04743839]\n",
      " [0.95256161 0.04743839]\n",
      " [0.95256161 0.04743839]\n",
      " [0.95256161 0.04743839]\n",
      " [0.95256161 0.04743839]\n",
      " [0.95256161 0.04743839]\n",
      " [0.95256161 0.04743839]\n",
      " [0.95256161 0.04743839]\n",
      " [0.95256161 0.04743839]\n",
      " [0.95256161 0.04743839]\n",
      " [0.95256161 0.04743839]\n",
      " [0.95256161 0.04743839]\n",
      " [0.95256161 0.04743839]\n",
      " [0.95256161 0.04743839]\n",
      " [0.95256161 0.04743839]\n",
      " [0.95256161 0.04743839]\n",
      " [0.95256161 0.04743839]]\n"
     ]
    }
   ],
   "source": [
    "result_proba=model.predict_proba(y)\n",
    "print(result_proba)"
   ]
  }
 ],
 "metadata": {
  "kernelspec": {
   "display_name": "Python 3",
   "language": "python",
   "name": "python3"
  },
  "language_info": {
   "codemirror_mode": {
    "name": "ipython",
    "version": 3
   },
   "file_extension": ".py",
   "mimetype": "text/x-python",
   "name": "python",
   "nbconvert_exporter": "python",
   "pygments_lexer": "ipython3",
   "version": "3.8.2"
  }
 },
 "nbformat": 4,
 "nbformat_minor": 2
}
