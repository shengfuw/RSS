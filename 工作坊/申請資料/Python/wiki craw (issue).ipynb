{
 "cells": [
  {
   "cell_type": "markdown",
   "metadata": {},
   "source": [
    "#### List of racism-related films"
   ]
  },
  {
   "cell_type": "code",
   "execution_count": 3,
   "metadata": {},
   "outputs": [
    {
     "name": "stdout",
     "output_type": "stream",
     "text": [
      "143\n"
     ]
    }
   ],
   "source": [
    "import requests\n",
    "from bs4 import BeautifulSoup\n",
    "url = 'https://en.wikipedia.org/wiki/List_of_racism-related_films'\n",
    "results = requests.get(url)\n",
    "soup = BeautifulSoup(results.text, 'html.parser')\n",
    "\n",
    "movielist1=[]\n",
    "for li in soup.find(class_=\"mw-parser-output\").ul.find_all('li'):\n",
    "    try:\n",
    "        b=li.i.extract()\n",
    "        movie=b.a.string\n",
    "        country=li.string[2:4]\n",
    "        year=int(li.string[-6:-1])\n",
    "        if country==\"US\":\n",
    "            movielist1.append([year,movie])\n",
    "    except:\n",
    "        None\n",
    "print(len(movielist1))"
   ]
  },
  {
   "cell_type": "code",
   "execution_count": 126,
   "metadata": {},
   "outputs": [],
   "source": [
    "movielist=[]\n",
    "b=[]\n",
    "for x in range(1939,2019):\n",
    "    for m in movielist1:\n",
    "        if m[0]==x:\n",
    "            b.append(m[1])\n",
    "    if b!=[]:\n",
    "        movielist.append(x)\n",
    "        movielist.append(b)\n",
    "        b=[]\n",
    "    x+=1\n",
    "import json\n",
    "with open('racism-related_movielist.json','w') as outfile:\n",
    "    json.dump(movielist,outfile)"
   ]
  },
  {
   "cell_type": "markdown",
   "metadata": {},
   "source": [
    "#### List of LGBT-related films"
   ]
  },
  {
   "cell_type": "code",
   "execution_count": 18,
   "metadata": {},
   "outputs": [
    {
     "name": "stdout",
     "output_type": "stream",
     "text": [
      "522\n"
     ]
    }
   ],
   "source": [
    "url = 'https://en.wikipedia.org/wiki/List_of_LGBT-related_films'\n",
    "results = requests.get(url)\n",
    "soup = BeautifulSoup(results.text, 'html.parser')\n",
    "movielist1=[]\n",
    "m=[]\n",
    "import random\n",
    "for div in soup.find_all(class_=\"div-col columns column-width\"):\n",
    "    for li in div.ul:\n",
    "            try:\n",
    "                b=li.i.extract()\n",
    "                movie=b.a.string\n",
    "                country=li.string[-9:-7]\n",
    "                year=int(li.string[-5:-1])\n",
    "                if country==\"US\" and year>=2004:\n",
    "                    movielist1.append([year,movie])\n",
    "                    m.append(movie)\n",
    "            except:\n",
    "                None\n",
    "print(len(movielist1))"
   ]
  },
  {
   "cell_type": "code",
   "execution_count": 25,
   "metadata": {},
   "outputs": [],
   "source": [
    "movielist_final=[]\n",
    "b=[]\n",
    "for x in range(2004,2019):\n",
    "    for m in movielist1:\n",
    "        if m[0]==x:\n",
    "            b.append(m[1])\n",
    "    if b!=[]:\n",
    "        movielist_final.append(x)\n",
    "        movielist_final.append(b)\n",
    "        b=[]\n",
    "    x+=1\n",
    "#print(movielist_final)\n",
    "import json\n",
    "with open('lgbt-related_movielist.json','w') as outfile:\n",
    "    json.dump(movielist_final,outfile)"
   ]
  },
  {
   "cell_type": "markdown",
   "metadata": {},
   "source": [
    "#### feminist-related films"
   ]
  },
  {
   "cell_type": "code",
   "execution_count": 22,
   "metadata": {},
   "outputs": [],
   "source": [
    "import requests\n",
    "from bs4 import BeautifulSoup \n",
    "import json\n",
    "url = 'https://en.wikipedia.org/wiki/Category:Feminist_films'\n",
    "results = requests.get(url)\n",
    "soup = BeautifulSoup(results.text, 'html.parser')\n",
    "movielist=[]\n",
    "for div in soup.find_all(class_ =\"mw-category-group\"):\n",
    "     for ul in div:\n",
    "            for li in ul:\n",
    "                movielist.append(li)"
   ]
  },
  {
   "cell_type": "code",
   "execution_count": 27,
   "metadata": {},
   "outputs": [],
   "source": [
    "url_2=\"https://en.wikipedia.org/w/index.php?title=Category:Feminist_films&pagefrom=Nadhi+Karaiyinile#mw-pages\"\n",
    "results = requests.get(url_2)\n",
    "soup = BeautifulSoup(results.text, 'html.parser')\n",
    "for div in soup.find_all(class_ =\"mw-category-group\"):\n",
    "     for ul in div:\n",
    "            for li in ul:\n",
    "                movielist.append(li)"
   ]
  },
  {
   "cell_type": "code",
   "execution_count": 26,
   "metadata": {},
   "outputs": [
    {
     "name": "stdout",
     "output_type": "stream",
     "text": [
      "319\n"
     ]
    }
   ],
   "source": [
    "import random\n",
    "feminist_milm_title=[]\n",
    "for n in range(len(movielist)):\n",
    "    try:\n",
    "        feminist_milm_title.append(movielist[n].text)\n",
    "    except:\n",
    "        continue\n",
    "\n",
    "movielist_final=[]\n",
    "for i in range(len(feminist_milm_title)):\n",
    "    movielist_final.append(feminist_milm_title[i].split('(')[0])\n",
    "print(len(movielist_final))\n",
    "with open('feminist-related_movielist.json','w') as outfile:\n",
    "    json.dump(movielist_final,outfile)"
   ]
  }
 ],
 "metadata": {
  "kernelspec": {
   "display_name": "Python 3",
   "language": "python",
   "name": "python3"
  },
  "language_info": {
   "codemirror_mode": {
    "name": "ipython",
    "version": 3
   },
   "file_extension": ".py",
   "mimetype": "text/x-python",
   "name": "python",
   "nbconvert_exporter": "python",
   "pygments_lexer": "ipython3",
   "version": "3.8.2"
  }
 },
 "nbformat": 4,
 "nbformat_minor": 2
}
