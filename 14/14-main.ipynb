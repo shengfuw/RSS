{
 "cells": [
  {
   "cell_type": "code",
   "execution_count": 3,
   "metadata": {},
   "outputs": [],
   "source": [
    "import csv\n",
    "import random\n",
    "import numpy as np\n",
    "import networkx as nx\n",
    "import matplotlib.pyplot as plt\n",
    "from scipy.stats import kde\n",
    "from matplotlib.ticker import MultipleLocator\n",
    "\n",
    "class agent:\n",
    "    def __init__(self, strategy, neighbors):\n",
    "        # Current time (t)\n",
    "        self.strategy = strategy # C = 1, D = 0\n",
    "        self.neighbors = neighbors # List of the agent's neighbors' index\n",
    "\n",
    "        # Next time (t+1)\n",
    "        self.future_strategy = strategy\n",
    "        self.future_neighbors = [n for n in self.neighbors] # deep coop\n",
    "\n",
    "        # self.role = -1\n",
    "        # self.imitate_agent = -1\n",
    "        # self.imitate_strategy = -1\n",
    "\n",
    "    def get_payoff(self, lattice):\n",
    "        # total_individual_payoff = 0\n",
    "        # for j in self.neighbors:            \n",
    "        #     total_individual_payoff += lattice.encounter(self.strategy, lattice.agents[j].strategy)\n",
    "\n",
    "        u = sum([lattice.agents[n].strategy for n in self.neighbors])\n",
    "        s = self.strategy\n",
    "        total_individual_payoff = s*u + (1-s)*u*lattice.b\n",
    "        return total_individual_payoff \n",
    "                \n",
    "class lattice: \n",
    "    def __init__(self, size, b, p, K=8):\n",
    "        self.size = size # Number of agents / size of nerwork (N)\n",
    "        self.b = b # Incentive to defect (T in PD payoff matrix)\n",
    "        self.p = p # Social plasticity\n",
    "        self.K = K # Average degree per agent\n",
    "        self.t = 0 # Time\n",
    "        self.agents = []\n",
    "        self.stationary_state = False\n",
    "        self.allD = False\n",
    "        \n",
    "        self.G = nx.gnm_random_graph(self.size, self.size*self.K/2)\n",
    "        cooperator_index = random.sample(list(range(self.size)), int(self.size*0.6)) # Choose who to become a cooperator\n",
    "        \n",
    "        # For testing\n",
    "        # lines = [\"0 1 2 4\", \"1 0 5 \", \"2 0 5\", \"3 4 4\", \"4 0 3\", \"5 1 2 3\"]\n",
    "        # self.G = nx.parse_adjlist(lines, nodetype=int)\n",
    "        # cooperator_index = [0, 1, 2, 4, 5] \n",
    "\n",
    "        for n in range(self.size):\n",
    "            if n in cooperator_index:\n",
    "                self.agents.append(agent(1, list(self.G.neighbors(n)))) # C-agent\n",
    "            else:\n",
    "                self.agents.append(agent(0, list(self.G.neighbors(n)))) # D-agent\n",
    "    \n",
    "    # def encounter(self, S1, S2): # Reutrn strategy 1's payoff\n",
    "    #     if S1 == 1 and S2 == 1: # C-C\n",
    "    #         return 1 # R\n",
    "    #     elif S1 == 1 and S2 == 0: # C-D\n",
    "    #         return 0 # S\n",
    "    #     elif S1 == 0 and S2 == 1: # D-C\n",
    "    #         return self.b # T\n",
    "    #     elif S1 == 0 and S2 == 0: # D-D\n",
    "    #         return 0 # \n",
    "            \n",
    "    def check_stationary_state(self):\n",
    "        self.stationary_state = True\n",
    "        for agent in self.agents:\n",
    "            if agent.future_strategy != agent.strategy or agent.future_neighbors != agent.neighbors:\n",
    "                self.stationary_state = False\n",
    "                break\n",
    "\n",
    "        strategy_set = set([n.future_strategy for n in self.agents])\n",
    "        if strategy_set == {0}:\n",
    "            self.allD = True\n",
    "\n",
    "    def one_round(self):\n",
    "        self.t += 1\n",
    "\n",
    "        # Step 1: Interact\n",
    "        payoff_for_each_agent = []\n",
    "        for i in range(self.size):\n",
    "            # payoff_for_each_agent.append(self.agents[i].get_payoff(self))\n",
    "            u_i = sum([self.agents[n].strategy for n in self.agents[i].neighbors])\n",
    "            s_i = self.agents[i].strategy\n",
    "            total_individual_payoff = s_i*u_i + (1-s_i)*u_i*self.b\n",
    "            payoff_for_each_agent.append(total_individual_payoff)\n",
    "        payoff_for_each_agent = np.array(payoff_for_each_agent)\n",
    "\n",
    "        for i in range(self.size): \n",
    "            # self.agents[i].imitate_agent = -1\n",
    "            # self.agents[i].imitate_strategy = -1\n",
    "\n",
    "            neighbors = [n for n in self.agents[i].neighbors]\n",
    "            neighbors_payoff = payoff_for_each_agent[neighbors]       \n",
    "\n",
    "            if len(neighbors) == 0:\n",
    "                continue\n",
    "            \n",
    "            # Unsatisfied agent\n",
    "            if neighbors_payoff.max() > payoff_for_each_agent[i]:         \n",
    "                # Step 2: Update strategy\n",
    "                neighbors_with_highest_payoff = np.where(neighbors_payoff == neighbors_payoff.max())[0]\n",
    "                if len(neighbors_with_highest_payoff) > 1:\n",
    "                    target = neighbors[random.choice(neighbors_with_highest_payoff)]\n",
    "                else:\n",
    "                    target = neighbors[neighbors_with_highest_payoff[0]]\n",
    "                target_strategy = self.agents[target].strategy\n",
    "                self.agents[i].future_strategy = target_strategy\n",
    "\n",
    "                # self.agents[i].imitate_agent = target\n",
    "                # self.agents[i].imitate_strategy = target_strategy\n",
    "    \n",
    "                # Step 3: Update neighborhood\n",
    "                if target_strategy == 0: # imitate a D-agent\n",
    "                    change_neighbor = random.choices([True, False], weights=[self.p, 1-self.p])[0]\n",
    "                    if change_neighbor:\n",
    "                        # Break link with with the imitated D neighbor\n",
    "                        self.agents[i].future_neighbors.remove(target)\n",
    "                        self.agents[target].future_neighbors.remove(i)\n",
    "    \n",
    "                        # Randomly choose partner from the whole neteork\n",
    "                        candidate = list(range(self.size))\n",
    "                        \n",
    "                        candidate.remove(i)\n",
    "                        for j in self.agents[i].future_neighbors:\n",
    "                            candidate.remove(j)\n",
    "                        # for j in self.agents[i].neighbors:\n",
    "                        #     if j in candidate:\n",
    "                        #         candidate.remove(j)\n",
    "\n",
    "                        new_neighbor = random.choice(candidate) \n",
    "                        self.agents[i].future_neighbors.append(new_neighbor)\n",
    "                        self.agents[new_neighbor].future_neighbors.append(i)\n",
    "                \n",
    "            #     self.agents[i].role = \"Conformist\"\n",
    "            # else:\n",
    "            #     if self.agents[i].strategy == 1:\n",
    "            #         self.agents[i].role = \"Leader\"\n",
    "            #     else:\n",
    "            #         self.agents[i].role = \"Exploiter\"\n",
    "\n",
    "        self.check_stationary_state()\n",
    "        \n",
    "        # Move to t+1\n",
    "        for agent in self.agents:\n",
    "            agent.strategy = agent.future_strategy\n",
    "            agent.neighbors = [n for n in agent.future_neighbors] # deep copy    \n",
    "\n",
    "        \n",
    "    def get_fraction_of_cooperator(self):\n",
    "        return (sum([agent.strategy for agent in self.agents]) / self.size)\n",
    "\n",
    "    def get_average_payoff_of_cooperators(self):\n",
    "        payoff_of_cooperators = [agent.get_payoff(self) for agent in self.agents if agent.strategy == 1]\n",
    "        return (sum(payoff_of_cooperators) / len(payoff_of_cooperators))\n",
    "    \n",
    "    def get_average_payoff_of_defectors(self):\n",
    "        payoff_of_defectors = [agent.get_payoff(self) for agent in self.agents if agent.strategy == 0]\n",
    "        return (sum(payoff_of_defectors) / len(payoff_of_defectors))"
   ]
  },
  {
   "cell_type": "markdown",
   "metadata": {},
   "source": [
    "# FIG 3."
   ]
  },
  {
   "cell_type": "code",
   "execution_count": 2,
   "metadata": {},
   "outputs": [
    {
     "name": "stdout",
     "output_type": "stream",
     "text": [
      "0: 1.2 1.4 1.6 1.8 \n",
      "0.01: 1.2 1.4 1.6 1.8 \n",
      "0.1: 1.2 1.4 1.6 1.8 \n",
      "1: 1.2 1.4 1.6 1.8 \n"
     ]
    }
   ],
   "source": [
    "random.seed(14)\n",
    "np.random.seed(14)\n",
    "\n",
    "parameters_b = [1.2, 1.4, 1.6, 1.8]\n",
    "parameters_p = [0, 0.01, 0.1, 1]\n",
    "trial_num = 5\n",
    "\n",
    "outcome = [] \n",
    "\n",
    "for p in parameters_p:\n",
    "    print(p, \":\", sep=\"\", end=\" \")\n",
    "    for_each_b = []\n",
    "    for b in parameters_b:\n",
    "        print(b, end=\" \")\n",
    "        trials_log = []\n",
    "        for trial in range(trial_num):\n",
    "            Mylattice = lattice(10000, b=b, p=p)\n",
    "            if p != 0:\n",
    "                while not Mylattice.stationary_state:\n",
    "                    Mylattice.one_round()\n",
    "                if not Mylattice.allD:\n",
    "                    fc = Mylattice.get_fraction_of_cooperator()\n",
    "                    trials_log.append(fc) \n",
    "            else:\n",
    "                fc_log = []\n",
    "                for t in range(1000):\n",
    "                    Mylattice.one_round()\n",
    "                    fc_log.append(Mylattice.get_fraction_of_cooperator())\n",
    "                    fc = sum(fc_log[-100:])/len(fc_log[-100:])\n",
    "                trials_log.append(fc) \n",
    "        for_each_b.append(sum(trials_log)/len(trials_log))\n",
    "    print()\n",
    "    outcome.append(for_each_b)"
   ]
  },
  {
   "cell_type": "code",
   "execution_count": 16,
   "metadata": {},
   "outputs": [
    {
     "name": "stdout",
     "output_type": "stream",
     "text": [
      "[['0.8574529', '0.5308867000000002', '0.2493388', '0.11375539999999999'], ['0.9733700000000001', '0.8198400000000001', '0.55094', '0.0014666666666666665'], ['0.96182', '0.79616', '0.5705100000000001', '0.35011111111111115'], ['0.9738899999999999', '0.9481299999999999', '0.9300799999999999', '0.32375']]\n"
     ]
    }
   ],
   "source": [
    "with open('data.csv', newline='') as csvfile:\n",
    "  outcome = list(csv.reader(csvfile))\n",
    "print(outcome)"
   ]
  },
  {
   "cell_type": "code",
   "execution_count": 115,
   "metadata": {},
   "outputs": [
    {
     "data": {
      "image/png": "[encoded data removed]",
      "text/plain": [
       "<Figure size 576x360 with 1 Axes>"
      ]
     },
     "metadata": {},
     "output_type": "display_data"
    }
   ],
   "source": [
    "x = np.array([1.2, 1.4, 1.6, 1.8])\n",
    "p_0 = [float(o) for o in outcome[0]]\n",
    "p_1 = [float(o) for o in outcome[1]]\n",
    "p_2 = [float(o) for o in outcome[2]]\n",
    "p_3 = [float(o) for o in outcome[3]]\n",
    "\n",
    "fig, ax = plt.subplots(1, 1, figsize=(8, 5))\n",
    "\n",
    "width = 0.035\n",
    "plt.bar(x + width*0, p_0, width, edgecolor='black', linewidth='1.25', color='black', label='p=0')\n",
    "plt.bar(x + width*1, p_1, width, edgecolor='black', linewidth='1.25', color='grey', label='p=0.01')\n",
    "plt.bar(x + width*2, p_2, width, edgecolor='black', linewidth='1.25', color='silver', label='p=0.1')\n",
    "plt.bar(x + width*3, p_3, width, edgecolor='black', linewidth='1.25', color='white', label='p=1')\n",
    "\n",
    "plt.ylim(0, 1)\n",
    "plt.xticks(x + width*1.5, x)\n",
    "ax.set_yticks(np.arange(0, 1.01, step=0.1))\n",
    "ax.set_xlabel(\"b\", fontsize=15)\n",
    "ax.set_ylabel(\"Fraction of cooperaters: fc\", rotation=90, y=0.5, fontsize=15)\n",
    "ax.set_axisbelow(True)\n",
    "ax.yaxis.set_major_formatter(lambda x, pos: f'{x:.3f}'.rstrip('0').rstrip('.'))\n",
    "fig.set_facecolor('white')\n",
    "\n",
    "lg = plt.legend(bbox_to_anchor=(1,0.5), loc='center left')\n",
    "plt.grid(axis='y', linewidth=.75)\n",
    "\n",
    "plt.savefig('FIG3.png', bbox_extra_artists=(lg,), bbox_inches='tight')\n",
    "plt.show()   "
   ]
  },
  {
   "cell_type": "code",
   "execution_count": 7,
   "metadata": {},
   "outputs": [],
   "source": [
    "data_file_path = 'data.csv'\n",
    "with open(data_file_path, 'w', newline='') as output_file:\n",
    "    writer = csv.writer(output_file)\n",
    "    for data in outcome:   \n",
    "        writer.writerow(data)"
   ]
  },
  {
   "cell_type": "markdown",
   "metadata": {},
   "source": [
    "# FIG 4."
   ]
  },
  {
   "cell_type": "code",
   "execution_count": 1,
   "metadata": {},
   "outputs": [],
   "source": [
    "random.seed(14)\n",
    "np.random.seed(14)\n",
    "\n",
    "parameter_b = np.arange(1, 2, 0.05)\n",
    "trial_num = 10\n",
    "\n",
    "# p = 0\n",
    "p_0 = []\n",
    "for b in parameter_b:\n",
    "    print(f'{b:.2f}', end=\" \")\n",
    "    trial_log = []\n",
    "    for trial in range(trial_num):\n",
    "        Mylattice = lattice(10000, b=b, p=0)\n",
    "        for round in range(5):\n",
    "            Mylattice.one_round()\n",
    "        apc = Mylattice.get_average_payoff_of_cooperators()\n",
    "        apd = Mylattice.get_average_payoff_of_defectors()\n",
    "        trial_log.append(apd-apc)\n",
    "\n",
    "    p_0.append(sum(trial_log)/len(trial_log))\n",
    "print()\n",
    "\n",
    "\n",
    "# p = 0.1\n",
    "trial_num = 1\n",
    "p_zero_point_1 = []\n",
    "for b in parameter_b:\n",
    "    print(f'{b:.2f}', end=\" \")\n",
    "    trial_log = []\n",
    "    trial_counter = 0\n",
    "    while trial_counter < trial_num:\n",
    "        Mylattice = lattice(10000, b=b, p=0.1)\n",
    "        while not Mylattice.stationary_state:\n",
    "            Mylattice.one_round()\n",
    "\n",
    "        if not Mylattice.allD:\n",
    "            apc = Mylattice.get_average_payoff_of_cooperators()\n",
    "            apd = Mylattice.get_average_payoff_of_defectors()\n",
    "            trial_log.append(apd-apc)\n",
    "            \n",
    "            trial_counter += 1\n",
    "\n",
    "    p_zero_point_1.append(sum(trial_log)/len(trial_log))"
   ]
  },
  {
   "cell_type": "code",
   "execution_count": 225,
   "metadata": {},
   "outputs": [
    {
     "data": {
      "image/png": "[encoded data removed]",
      "text/plain": [
       "<Figure size 648x576 with 1 Axes>"
      ]
     },
     "metadata": {},
     "output_type": "display_data"
    }
   ],
   "source": [
    "\n",
    "fig, ax = plt.subplots(1, 1, figsize=(9, 8))\n",
    "\n",
    "plt.scatter(parameter_b, p_0, marker='*') \n",
    "plt.scatter(parameter_b, p_zero_point_1, marker='s') \n",
    "\n",
    "ax.set_xlim([1, 2])\n",
    "ax.set_ylim([-2, 10])\n",
    "ax.set_xticks([1, 1.2, 1.4, 1.6, 1.8, 2])\n",
    "ax.set_yticks([-2, 0, 2, 4, 6, 8, 10])\n",
    "ax.set_xlabel(\"b\", y=0.5, fontsize=15)\n",
    "ax.set_ylabel(r'$<\\Pi_D - \\Pi_C>$', rotation=90, y=0.5, fontsize=15)\n",
    "ax.xaxis.set_minor_locator(MultipleLocator(0.1))\n",
    "ax.yaxis.set_minor_locator(MultipleLocator(1))\n",
    "ax.xaxis.set_major_formatter(lambda x, pos: f'{x:.3f}'.rstrip('0').rstrip('.'))\n",
    "ax.tick_params(which='both', direction='in', right=True, top=True)\n",
    "fig.set_facecolor('white')\n",
    "\n",
    "# plt.savefig('FIG4.jpg')\n",
    "plt.show() "
   ]
  },
  {
   "cell_type": "code",
   "execution_count": 5,
   "metadata": {},
   "outputs": [
    {
     "ename": "NameError",
     "evalue": "name 'p_0' is not defined",
     "output_type": "error",
     "traceback": [
      "\u001b[0;31m---------------------------------------------------------------------------\u001b[0m",
      "\u001b[0;31mNameError\u001b[0m                                 Traceback (most recent call last)",
      "\u001b[0;32m/var/folders/_q/7nm19znd7d11rzql9lg9pqcw0000gn/T/ipykernel_29131/1521198434.py\u001b[0m in \u001b[0;36m<module>\u001b[0;34m\u001b[0m\n\u001b[1;32m      3\u001b[0m \u001b[0;32mwith\u001b[0m \u001b[0mopen\u001b[0m\u001b[0;34m(\u001b[0m\u001b[0mdata_file_path\u001b[0m\u001b[0;34m,\u001b[0m \u001b[0;34m'w'\u001b[0m\u001b[0;34m,\u001b[0m \u001b[0mnewline\u001b[0m\u001b[0;34m=\u001b[0m\u001b[0;34m''\u001b[0m\u001b[0;34m)\u001b[0m \u001b[0;32mas\u001b[0m \u001b[0moutput_file\u001b[0m\u001b[0;34m:\u001b[0m\u001b[0;34m\u001b[0m\u001b[0;34m\u001b[0m\u001b[0m\n\u001b[1;32m      4\u001b[0m     \u001b[0mwriter\u001b[0m \u001b[0;34m=\u001b[0m \u001b[0mcsv\u001b[0m\u001b[0;34m.\u001b[0m\u001b[0mwriter\u001b[0m\u001b[0;34m(\u001b[0m\u001b[0moutput_file\u001b[0m\u001b[0;34m)\u001b[0m\u001b[0;34m\u001b[0m\u001b[0;34m\u001b[0m\u001b[0m\n\u001b[0;32m----> 5\u001b[0;31m     \u001b[0mwriter\u001b[0m\u001b[0;34m.\u001b[0m\u001b[0mwriterow\u001b[0m\u001b[0;34m(\u001b[0m\u001b[0mp_0\u001b[0m\u001b[0;34m)\u001b[0m\u001b[0;34m\u001b[0m\u001b[0;34m\u001b[0m\u001b[0m\n\u001b[0m\u001b[1;32m      6\u001b[0m     \u001b[0mwriter\u001b[0m\u001b[0;34m.\u001b[0m\u001b[0mwriterow\u001b[0m\u001b[0;34m(\u001b[0m\u001b[0mp_zero_point_1\u001b[0m\u001b[0;34m)\u001b[0m\u001b[0;34m\u001b[0m\u001b[0;34m\u001b[0m\u001b[0m\n",
      "\u001b[0;31mNameError\u001b[0m: name 'p_0' is not defined"
     ]
    }
   ],
   "source": [
    "# Save data\n",
    "data_file_path = 'data2.csv'\n",
    "with open(data_file_path, 'w', newline='') as output_file:\n",
    "    writer = csv.writer(output_file)\n",
    "    writer.writerow(p_0)\n",
    "    writer.writerow(p_zero_point_1)"
   ]
  },
  {
   "cell_type": "markdown",
   "metadata": {},
   "source": [
    "# FIG 5."
   ]
  },
  {
   "cell_type": "code",
   "execution_count": 64,
   "metadata": {},
   "outputs": [],
   "source": [
    "random.seed(626)\n",
    "np.random.seed(626)\n",
    "\n",
    "Mylattice = lattice(10000, b=1.7, p=0)\n",
    "log = []\n",
    "round_num = 1000\n",
    "for i in range(round_num):\n",
    "    Mylattice.one_round()\n",
    "    log.append(Mylattice.get_fraction_of_cooperator())\n",
    "\n",
    "    if i == 200:\n",
    "        Mylattice.p = 1\n",
    "    \n",
    "    if i == 500:\n",
    "        payoff_of_each_agent = np.array([agent.get_payoff(Mylattice) for agent in Mylattice.agents])\n",
    "        absolute_leader = payoff_of_each_agent.argmax()\n",
    "        Mylattice.agents[absolute_leader].strategy = 0"
   ]
  },
  {
   "cell_type": "code",
   "execution_count": 106,
   "metadata": {},
   "outputs": [
    {
     "data": {
      "image/png": "[encoded data removed]",
      "text/plain": [
       "<Figure size 720x360 with 1 Axes>"
      ]
     },
     "metadata": {},
     "output_type": "display_data"
    }
   ],
   "source": [
    "fig, ax = plt.subplots(1, 1, figsize=(10, 5))\n",
    "plt.plot(log)\n",
    "\n",
    "ax.set_xlim([0, 1000])\n",
    "ax.set_ylim([0, 1])\n",
    "ax.set_yticks([0, 0.2, 0.4, 0.6, 0.8, 1])\n",
    "ax.set_ylabel(\"fc\", rotation=90, y=0.5, fontsize=15)\n",
    "ax.set_xlabel(\"time\", y=0.5, fontsize=15)\n",
    "ax.axvline(200, 0, 1, color='grey', linestyle=':')\n",
    "ax.axvline(500, 0, 1, color='grey', linestyle=':')\n",
    "ax.yaxis.set_major_formatter(lambda x, pos: f'{x:.3f}'.rstrip('0').rstrip('.'))\n",
    "ax.tick_params(direction='in', right=True, top=True)\n",
    "\n",
    "fig.set_facecolor('white')\n",
    "plt.savefig('FIG5.jpg')\n",
    "plt.show() "
   ]
  },
  {
   "cell_type": "markdown",
   "metadata": {},
   "source": [
    "# Testing"
   ]
  },
  {
   "cell_type": "code",
   "execution_count": 80,
   "metadata": {},
   "outputs": [
    {
     "name": "stdout",
     "output_type": "stream",
     "text": [
      "0 \n",
      "459\n",
      "80000\n",
      "False\n",
      "0.4586\n"
     ]
    },
    {
     "data": {
      "text/plain": [
       "[<matplotlib.lines.Line2D at 0x7fc31295c6a0>]"
      ]
     },
     "execution_count": 80,
     "metadata": {},
     "output_type": "execute_result"
    },
    {
     "data": {
      "image/png": "[encoded data removed]",
      "text/plain": [
       "<Figure size 432x288 with 1 Axes>"
      ]
     },
     "metadata": {
      "needs_background": "light"
     },
     "output_type": "display_data"
    }
   ],
   "source": [
    "# random.seed(14)\n",
    "# np.random.seed(14)\n",
    "\n",
    "# Mylattice = lattice(10000, b=1.75, p=0.1)\n",
    "# print(sum([len(i.neighbors) for i in Mylattice.agents]))\n",
    "# log = []\n",
    "\n",
    "round_num = 1000\n",
    "for i in range(round_num):\n",
    "    if i % 10 == 0:\n",
    "        print(i, end=\" \")\n",
    "\n",
    "    Mylattice.one_round()\n",
    "    log.append(Mylattice.get_fraction_of_cooperator())\n",
    "    \n",
    "    if Mylattice.stationary_state == True:\n",
    "        print(\"\\n\", Mylattice.t, sep=\"\")\n",
    "        break\n",
    "\n",
    "print(sum([len(i.neighbors) for i in Mylattice.agents]), sep=\"\")\n",
    "print(Mylattice.allD)\n",
    "print(log[-1])\n",
    "plt.plot(log)"
   ]
  },
  {
   "cell_type": "code",
   "execution_count": 9,
   "metadata": {},
   "outputs": [
    {
     "name": "stdout",
     "output_type": "stream",
     "text": [
      "1.8621544937363517\n",
      "0.0056\n"
     ]
    }
   ],
   "source": [
    "# random.seed(14)\n",
    "# np.random.seed(14)\n",
    "\n",
    "# Mylattice = lattice(10000, b=1.85, p=0.1)\n",
    "# log = []\n",
    "\n",
    "# Mylattice.stationary_state = False\n",
    "\n",
    "# while not Mylattice.stationary_state:\n",
    "#     Mylattice.one_round()\n",
    "#     log.append(Mylattice.get_fraction_of_cooperator())\n",
    "\n",
    "#     t = Mylattice.t\n",
    "#     if t % 100 == 0:\n",
    "#         print(t, end=\" \")\n",
    "#         # plt.plot(log)\n",
    "#         # plt.show()\n",
    "\n",
    "#     if Mylattice.stationary_state:\n",
    "#         print(\"!\", Mylattice.t)\n",
    "\n",
    "# # print(Mylattice.t)\n",
    "# plt.plot(log)\n",
    "# print(log[-1])"
   ]
  },
  {
   "cell_type": "code",
   "execution_count": 219,
   "metadata": {},
   "outputs": [
    {
     "data": {
      "image/png": "[encoded data removed]",
      "text/plain": [
       "<Figure size 432x360 with 1 Axes>"
      ]
     },
     "metadata": {
      "needs_background": "light"
     },
     "output_type": "display_data"
    }
   ],
   "source": [
    "def normalize(probs):\n",
    "    prob_factor = 1 / sum(probs)\n",
    "    return [prob_factor * p for p in probs]\n",
    "\n",
    "fig, ax = plt.subplots(1, 1, figsize=(6, 5))\n",
    "\n",
    "payoff_of_C = normalize(np.array([agent.get_payoff(Mylattice) for agent in Mylattice.agents if agent.strategy == 1]))\n",
    "# payoff_of_D = normalize(np.array([agent.get_payoff(Mylattice) for agent in Mylattice.agents if agent.strategy == 0]))\n",
    "\n",
    "payoff_of_C = np.array([agent.get_payoff(Mylattice)*2 for agent in Mylattice.agents if agent.strategy == 1])\n",
    "payoff_of_D = np.array([agent.get_payoff(Mylattice) for agent in Mylattice.agents if agent.strategy == 0])\n",
    "\n",
    "density = kde.gaussian_kde(payoff_of_C)\n",
    "x = np.linspace(0, 60, 500)\n",
    "y = density(x)\n",
    "\n",
    "ax.set_yscale('log')\n",
    "ax.set_ylim([10**-5, 1])\n",
    "# ax.set_yticks([1, 10**-1, 10**-2, 10**-3, 10**-4, 10*-5])\n",
    "# fig.set_facecolor('white')\n",
    "plt.plot(x, y)\n",
    "plt.show()"
   ]
  },
  {
   "cell_type": "code",
   "execution_count": 93,
   "metadata": {},
   "outputs": [
    {
     "name": "stdout",
     "output_type": "stream",
     "text": [
      "False\n",
      "0\n",
      "9856\n",
      "0\n",
      "[9749, 962, 8045, 6054, 3038, 9856, 7864]\n",
      "[0, 0, 0, 0, 0, 0, 0]\n",
      "[1.8, 3.6, 0.0, 0.0, 1.8, 3.6, 0.0]\n",
      "----------\n",
      "False\n",
      "0\n",
      "9856\n",
      "0\n",
      "[9749, 962, 8045, 6054, 3038, 9856, 7864]\n",
      "[0, 0, 0, 0, 0, 0, 0]\n",
      "[5.4, 3.6, 0.0, 0.0, 1.8, 1.8, 0.0]\n",
      "----------\n"
     ]
    }
   ],
   "source": [
    "# print(Mylattice.stationary_state)\n",
    "\n",
    "# for i, agent in enumerate(Mylattice.agents):\n",
    "#     if agent.strategy == 1 and i <= 10:\n",
    "#         agent = Mylattice.agents[i]\n",
    "#         for n in agent.neighbors:\n",
    "#             print((Mylattice.agents[n].strategy, Mylattice.agents[n].get_payoff(Mylattice)), end=\", \")\n",
    "#         print()\n",
    "#         # imitate_chain = [(agent.role, agent.get_payoff(Mylattice), agent.imitate_agent)]\n",
    "#         # imitate_agent =  Mylattice.agents[agent.imitate_agent]\n",
    "#         # if agent.imitate_agent != -1:\n",
    "#         #     while imitate_agent.role != \"Leader\" and imitate_agent.imitate_agent != -1:\n",
    "#         #         next = imitate_agent.imitate_agent\n",
    "#         #         imitate_agent = Mylattice.agents[next]\n",
    "#         #         imitate_chain.append((imitate_agent.role, imitate_agent.get_payoff(Mylattice), imitate_agent.imitate_agent))\n",
    "#         # print(i, imitate_chain)\n",
    "\n",
    "# print('-'*10)\n",
    "\n",
    "# Mylattice.one_round()\n",
    "# print(Mylattice.stationary_state)\n",
    "\n",
    "# for i, agent in enumerate(Mylattice.agents):\n",
    "#     if agent.strategy == 1 and i <= 10:\n",
    "#         agent = Mylattice.agents[i]\n",
    "#         for n in agent.neighbors:\n",
    "#             print((Mylattice.agents[n].strategy, Mylattice.agents[n].get_payoff(Mylattice)), end=\", \")\n",
    "#         print()\n",
    "\n",
    "# print('-'*10)\n",
    "\n",
    "# Mylattice.one_round()\n",
    "# print(Mylattice.stationary_state)\n",
    "\n",
    "# for i, agent in enumerate(Mylattice.agents):\n",
    "#     if i == 0:\n",
    "#         agent = Mylattice.agents[i]\n",
    "#         imiitate_agent = Mylattice.agents[i].imitate_agent\n",
    "#         neighbors = []\n",
    "#         neighbors_s = []\n",
    "#         neighbors_p = []\n",
    "#         for n in agent.neighbors:\n",
    "#             neighbors.append(n)\n",
    "#             neighbors_s.append(Mylattice.agents[n].strategy)\n",
    "#             neighbors_p.append(Mylattice.agents[n].get_payoff(Mylattice))\n",
    "#         print(agent.strategy, imiitate_agent, Mylattice.agents[imiitate_agent].strategy , neighbors, neighbors_s, neighbors_p, '-'*10,sep=\"\\n\")"
   ]
  },
  {
   "cell_type": "code",
   "execution_count": 144,
   "metadata": {},
   "outputs": [
    {
     "name": "stdout",
     "output_type": "stream",
     "text": [
      "80000\n"
     ]
    },
    {
     "data": {
      "text/plain": [
       "0.41378000000000004"
      ]
     },
     "execution_count": 144,
     "metadata": {},
     "output_type": "execute_result"
    }
   ],
   "source": [
    "print(sum([len(i.neighbors) for i in Mylattice.agents]))\n",
    "\n",
    "for i in Mylattice.agents:\n",
    "    if len(set(i.neighbors)) != len(i.neighbors):\n",
    "        print(\"!\", i.neighbors)\n",
    "    for j in i.neighbors:\n",
    "        if i in Mylattice.agents[j].neighbors:\n",
    "            print(\"#\")\n",
    "        \n",
    "sum(log[-100:])/len(log[-100:])"
   ]
  }
 ],
 "metadata": {
  "interpreter": {
   "hash": "40d3a090f54c6569ab1632332b64b2c03c39dcf918b08424e98f38b5ae0af88f"
  },
  "kernelspec": {
   "display_name": "Python 3.9.7 ('base')",
   "language": "python",
   "name": "python3"
  },
  "language_info": {
   "codemirror_mode": {
    "name": "ipython",
    "version": 3
   },
   "file_extension": ".py",
   "mimetype": "text/x-python",
   "name": "python",
   "nbconvert_exporter": "python",
   "pygments_lexer": "ipython3",
   "version": "3.9.7"
  },
  "orig_nbformat": 4
 },
 "nbformat": 4,
 "nbformat_minor": 2
}
